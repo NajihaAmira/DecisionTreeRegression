{
  "nbformat": 4,
  "nbformat_minor": 0,
  "metadata": {
    "colab": {
      "provenance": []
    },
    "kernelspec": {
      "name": "python3",
      "display_name": "Python 3"
    },
    "language_info": {
      "name": "python"
    }
  },
  "cells": [
    {
      "cell_type": "code",
      "execution_count": null,
      "metadata": {
        "id": "95NiqLqWbUKo"
      },
      "outputs": [],
      "source": [
        "#link to get data\n",
        "!wget -O teleCust1000t.csv https://s3-api.us-geo.objectstorage.softlayer.net/cf-courses-data/CognitiveClass/DA0101EN/auto.csv"
      ]
    },
    {
      "cell_type": "code",
      "source": [
        "#read dataset so call dataset\n",
        "import pandas as pd\n",
        "\n",
        "mydata = pd.read_csv(\"/content/teleCust1000t.csv\")\n",
        "\n",
        "mydata.head() #read a few dataset"
      ],
      "metadata": {
        "id": "bBenqonFb6fE"
      },
      "execution_count": null,
      "outputs": []
    },
    {
      "cell_type": "code",
      "source": [
        "headers = [\"symboling\",\"normalized-losses\",\"make\",\"fuel-type\",\"aspiration\", \"num-of-doors\",\"body-style\",\n",
        "\n",
        "         \"drive-wheels\",\"engine-location\",\"wheel-base\", \"length\",\"width\",\"height\",\"curb-weight\",\"engine-type\",\n",
        "\n",
        "         \"num-of-cylinders\", \"engine-size\",\"fuel-system\",\"bore\",\"stroke\",\"compression-ratio\",\"horsepower\",\n",
        "\n",
        "         \"peak-rpm\",\"city-mpg\",\"highway-mpg\",\"price\"]\n",
        "\n",
        "\n",
        "\n",
        "mydata.columns = headers\n",
        "\n",
        "\n",
        "\n",
        "mydata.head()\n",
        "\n"
      ],
      "metadata": {
        "id": "HIrY8ICHcmOt"
      },
      "execution_count": null,
      "outputs": []
    },
    {
      "cell_type": "code",
      "source": [
        "mydata.isnull().sum()"
      ],
      "metadata": {
        "id": "hjO-ft-4ddSe"
      },
      "execution_count": null,
      "outputs": []
    },
    {
      "cell_type": "markdown",
      "source": [
        "From above, it said that there is no missing value. Why? This is because the null value in the dataframe are represent with symbol \"?\". However numpy libraries only read NaN as null value only.\n",
        "*(memang tiada missing value sbb null value tu dia ganti dgn simbol tanda soal, sedangkan numpy just read NaN)*"
      ],
      "metadata": {
        "id": "eXXf8jSldw_H"
      }
    },
    {
      "cell_type": "code",
      "source": [
        "import numpy as np\n",
        "\n",
        "mydata.replace(\"?\", np.nan, inplace = True)\n",
        "\n",
        "mydata.isnull().sum()"
      ],
      "metadata": {
        "id": "NzSqkOubd51I"
      },
      "execution_count": null,
      "outputs": []
    },
    {
      "cell_type": "markdown",
      "source": [
        "since we can replace mean values"
      ],
      "metadata": {
        "id": "0BqGtJX9epT9"
      }
    },
    {
      "cell_type": "code",
      "source": [
        "mean_normal = mydata['normalized-losses'].astype('float').mean()\n",
        "\n",
        "mydata['normalized-losses'].replace(np.nan, mean_normal, inplace = True)\n",
        "\n",
        "mydata.isnull().sum()"
      ],
      "metadata": {
        "id": "3Afg4WqIes3N"
      },
      "execution_count": null,
      "outputs": []
    },
    {
      "cell_type": "code",
      "source": [
        "mydata['num-of-doors'].value_counts()\n"
      ],
      "metadata": {
        "id": "F9SdLZmDgc5r"
      },
      "execution_count": null,
      "outputs": []
    },
    {
      "cell_type": "markdown",
      "source": [
        "when the null values in numerical colum value so replace it by mean"
      ],
      "metadata": {
        "id": "j7_W39GggqmF"
      }
    },
    {
      "cell_type": "markdown",
      "source": [
        "num of doors is categorical value so use the value_counts"
      ],
      "metadata": {
        "id": "X3ZkYCoihBpc"
      }
    },
    {
      "cell_type": "code",
      "source": [
        "mydata['num-of-doors'].replace(np.nan,'four', inplace = True)\n",
        "\n",
        "mydata.isnull().sum()"
      ],
      "metadata": {
        "id": "wAkOCCM5gz60"
      },
      "execution_count": null,
      "outputs": []
    },
    {
      "cell_type": "code",
      "source": [
        "mean_bore = mydata['bore'].astype('float').mean()\n",
        "\n",
        "mydata['bore'].replace(np.nan, mean_bore, inplace = True)\n",
        "\n",
        "mydata.isnull().sum()"
      ],
      "metadata": {
        "id": "UJlaXwg4gWuo"
      },
      "execution_count": null,
      "outputs": []
    },
    {
      "cell_type": "code",
      "source": [
        "mean_stroke = mydata['stroke'].astype('float').mean()\n",
        "\n",
        "mydata['stroke'].replace(np.nan, mean_stroke, inplace = True)\n",
        "\n",
        "mydata.isnull().sum()"
      ],
      "metadata": {
        "id": "dpx0ZRiPhyvW"
      },
      "execution_count": null,
      "outputs": []
    },
    {
      "cell_type": "code",
      "source": [
        "mean_horsepower= mydata['horsepower'].astype('float').mean()\n",
        "\n",
        "mydata['horsepower'].replace(np.nan, mean_horsepower , inplace = True)\n",
        "\n",
        "mydata.isnull().sum()"
      ],
      "metadata": {
        "id": "DGXW0lwbh6-3"
      },
      "execution_count": null,
      "outputs": []
    },
    {
      "cell_type": "code",
      "source": [
        "mean_peakrpm= mydata['peak-rpm'].astype('float').mean()\n",
        "\n",
        "mydata['peak-rpm'].replace(np.nan, mean_peakrpm , inplace = True)\n",
        "\n",
        "mydata.isnull().sum()"
      ],
      "metadata": {
        "id": "h_gODnEiiFG_"
      },
      "execution_count": null,
      "outputs": []
    },
    {
      "cell_type": "code",
      "source": [
        "mean_price= mydata['price'].astype('float').mean()\n",
        "\n",
        "mydata['price'].replace(np.nan, mean_price , inplace = True)\n",
        "\n",
        "mydata.isnull().sum()"
      ],
      "metadata": {
        "id": "RGAbG43UiQY1"
      },
      "execution_count": null,
      "outputs": []
    },
    {
      "cell_type": "code",
      "source": [
        "mydata.head(10)"
      ],
      "metadata": {
        "id": "xIKo4bLrCoAr"
      },
      "execution_count": null,
      "outputs": []
    },
    {
      "cell_type": "code",
      "source": [
        "mydata.dtypes"
      ],
      "metadata": {
        "id": "dPFP_XjVEwEh"
      },
      "execution_count": null,
      "outputs": []
    },
    {
      "cell_type": "markdown",
      "source": [
        "from above, we can see that a few attributes that are not in the right datatype. for example, price datatype is in object, so I convert to numeric datatype"
      ],
      "metadata": {
        "id": "if-2vobfmqoY"
      }
    },
    {
      "cell_type": "code",
      "source": [
        "mydata['normalized-losses'] =pd.to_numeric(mydata['normalized-losses'], errors='coerce')\n",
        "mydata['bore'] =pd.to_numeric(mydata['bore'], errors='coerce')\n",
        "mydata['stroke'] =pd.to_numeric(mydata['stroke'], errors='coerce')\n",
        "mydata['horsepower'] =pd.to_numeric(mydata['horsepower'], errors='coerce')\n",
        "mydata['peak-rpm'] =pd.to_numeric(mydata['peak-rpm'], errors='coerce')\n",
        "mydata['price'] =pd.to_numeric(mydata['price'], errors='coerce')"
      ],
      "metadata": {
        "id": "pdWawu6TGxx7"
      },
      "execution_count": null,
      "outputs": []
    },
    {
      "cell_type": "code",
      "source": [
        "mydata.dtypes"
      ],
      "metadata": {
        "id": "3Yi0gB8elcD2"
      },
      "execution_count": null,
      "outputs": []
    },
    {
      "cell_type": "code",
      "source": [
        "mydata.corr()"
      ],
      "metadata": {
        "id": "ZOFOmSVvC0Mi"
      },
      "execution_count": null,
      "outputs": []
    },
    {
      "cell_type": "markdown",
      "source": [
        "we can see 0.872335 price engine_size has the highets correlation because near to 1"
      ],
      "metadata": {
        "id": "WFQakBa5i6LL"
      }
    },
    {
      "cell_type": "markdown",
      "source": [
        "-ve show if this correlation increase, the others is decrease\n",
        "+ve show this correlatrion increase, others increase\n"
      ],
      "metadata": {
        "id": "UL1PIVntjx3X"
      }
    },
    {
      "cell_type": "code",
      "source": [
        "import matplotlib.pyplot as plt\n",
        "import seaborn as sns\n",
        "\n",
        "plt.figure(figsize=(18,8))\n",
        "\n",
        "corr_df = mydata.corr()\n",
        "\n",
        "sns.heatmap(corr_df, annot=True, cmap='RdBu')"
      ],
      "metadata": {
        "id": "dCy6RBIpi5tw"
      },
      "execution_count": null,
      "outputs": []
    },
    {
      "cell_type": "code",
      "source": [
        "import matplotlib.pyplot as plt\n",
        "import seaborn as sns\n",
        "\n",
        "plt.figure(figsize=(18,8))\n",
        "\n",
        "corr_df = mydata.corr()\n",
        "\n",
        "sns.heatmap(corr_df, cmap='RdBu')"
      ],
      "metadata": {
        "id": "T7leXrzqkJRH"
      },
      "execution_count": null,
      "outputs": []
    },
    {
      "cell_type": "markdown",
      "source": [
        "at x axis, for price attributes, the box that have high correlated (dark colour), so it turn out 9 out of 26 attribute/feature are high correlated"
      ],
      "metadata": {
        "id": "9oA1JDRfkUuX"
      }
    },
    {
      "cell_type": "markdown",
      "source": [
        "so since, we know which attributes are high correlated, so we start building model"
      ],
      "metadata": {
        "id": "zN5F9cIbpuPs"
      }
    },
    {
      "cell_type": "code",
      "source": [
        "# Build decision tree with default hyperparametes, then use cross-\n",
        "# validation to tune them\n",
        "\n",
        "# Importing train_test_split\n",
        "from sklearn.model_selection import train_test_split"
      ],
      "metadata": {
        "id": "hahf7WwOnQsZ"
      },
      "execution_count": null,
      "outputs": []
    },
    {
      "cell_type": "code",
      "source": [
        "# Define the list of independent variable names\n",
        "independent_vars = ['symboling', 'normalized-losses', 'wheel-base', 'length', 'width', 'height', 'curb-weight', 'engine-size', 'bore', 'stroke', 'compression-ratio',\n",
        "                    'horsepower', 'peak-rpm', 'city-mpg', 'highway-mpg']\n",
        "\n",
        "# Create the feature matrix X by selecting the columns corresponding to the independent variables\n",
        "X = mydata[independent_vars]\n"
      ],
      "metadata": {
        "id": "KTw2fwJeIOlm"
      },
      "execution_count": null,
      "outputs": []
    },
    {
      "cell_type": "code",
      "source": [
        "\n",
        "# Putting response/dependent variable/feature to y\n",
        "y = mydata['price']"
      ],
      "metadata": {
        "id": "-ZzE_TgsrmUh"
      },
      "execution_count": null,
      "outputs": []
    },
    {
      "cell_type": "code",
      "source": [
        "X.head()"
      ],
      "metadata": {
        "id": "uZLFmnOtrzY5"
      },
      "execution_count": null,
      "outputs": []
    },
    {
      "cell_type": "code",
      "source": [
        "y.head()"
      ],
      "metadata": {
        "id": "_-8o_4TG-h7l"
      },
      "execution_count": null,
      "outputs": []
    },
    {
      "cell_type": "code",
      "source": [
        "# Splitting the data into train and test\n",
        "X_train,X_test,y_train,y_test = train_test_split(X,y,test_size=0.30,random_state=99)\n",
        "\n",
        "X_train.head()"
      ],
      "metadata": {
        "id": "rHuK-5rhAisu"
      },
      "execution_count": null,
      "outputs": []
    },
    {
      "cell_type": "markdown",
      "source": [
        "so, I train the dataset first before make predicitions"
      ],
      "metadata": {
        "id": "FzDr3qnlEAim"
      }
    },
    {
      "cell_type": "code",
      "source": [
        "from sklearn.tree import DecisionTreeRegressor\n",
        "\n",
        "# Create a Decision Tree Regression model\n",
        "regressor = DecisionTreeRegressor(max_depth=5)\n",
        "\n",
        "# Fit the regressor with X_train and y_train (assuming y_train contains continuous target values)\n",
        "regressor.fit(X_train, y_train)\n",
        "\n",
        "# Predict using the trained model\n",
        "y_pred = regressor.predict(X_test)\n"
      ],
      "metadata": {
        "id": "zyKn6MTwAncH"
      },
      "execution_count": null,
      "outputs": []
    },
    {
      "cell_type": "markdown",
      "source": [
        "Start to evaluate the model performance and analyze the result"
      ],
      "metadata": {
        "id": "di5nb8jHEH4X"
      }
    },
    {
      "cell_type": "code",
      "source": [
        "#evaluate model performance\n",
        "from sklearn.metrics import mean_absolute_error, mean_squared_error, r2_score\n",
        "\n",
        "# Calculate evaluation metrics\n",
        "mae = mean_absolute_error(y_test, y_pred)\n",
        "mse = mean_squared_error(y_test, y_pred)\n",
        "rmse = np.sqrt(mse)\n",
        "r2 = r2_score(y_test, y_pred)\n",
        "\n",
        "print(f\"Mean Absolute Error (MAE): {mae}\")\n",
        "print(f\"Mean Squared Error (MSE): {mse}\")\n",
        "print(f\"Root Mean Squared Error (RMSE): {rmse}\")\n",
        "print(f\"R-squared (R^2): {r2}\")\n"
      ],
      "metadata": {
        "id": "-ZFwqYZ1EQWS"
      },
      "execution_count": null,
      "outputs": []
    },
    {
      "cell_type": "code",
      "source": [
        "#visualize predictions\n",
        "import matplotlib.pyplot as plt\n",
        "\n",
        "# Create scatter plot of actual vs. predicted values\n",
        "plt.scatter(y_test, y_pred)\n",
        "plt.xlabel(\"Actual Values\")\n",
        "plt.ylabel(\"Predicted Values\")\n",
        "plt.title(\"Actual vs. Predicted Values\")\n",
        "plt.show()"
      ],
      "metadata": {
        "id": "FQYdoM-4EQTU"
      },
      "execution_count": null,
      "outputs": []
    },
    {
      "cell_type": "code",
      "source": [
        "#feature importance, know which one independent varaiables are most importanti in make predictions\n",
        "\n",
        "feature_importance = regressor.feature_importances_\n",
        "feature_names = X.columns\n",
        "\n",
        "# Create a bar plot to visualize feature importances\n",
        "plt.barh(feature_names, feature_importance)\n",
        "plt.xlabel(\"Feature Importance\")\n",
        "plt.ylabel(\"Feature Name\")\n",
        "plt.title(\"Feature Importance\")\n",
        "plt.show()\n"
      ],
      "metadata": {
        "id": "tLStihjNCzTK"
      },
      "execution_count": null,
      "outputs": []
    },
    {
      "cell_type": "code",
      "source": [
        "#intepret the model\n",
        "from sklearn.tree import plot_tree\n",
        "\n",
        "plt.figure(figsize=(12, 8))\n",
        "plot_tree(regressor, filled=True, feature_names=X.columns)\n",
        "plt.show()"
      ],
      "metadata": {
        "id": "vxq8tHVGNPQ6"
      },
      "execution_count": null,
      "outputs": []
    },
    {
      "cell_type": "markdown",
      "source": [
        "This is for testing if I put only the high correlated feature into the X only."
      ],
      "metadata": {
        "id": "Ob0IHZ4lMmsK"
      }
    },
    {
      "cell_type": "code",
      "source": [
        "# Define the list of independent variable names\n",
        "independent_vars = ['normalized-losses', 'wheel-base', 'width', 'curb-weight', 'engine-size', 'compression-ratio',\n",
        "                    'horsepower', 'peak-rpm', 'city-mpg']\n",
        "\n",
        "# Create the feature matrix X by selecting the columns corresponding to the independent variables\n",
        "X = mydata[independent_vars]"
      ],
      "metadata": {
        "id": "_c8j11C9KMDl"
      },
      "execution_count": null,
      "outputs": []
    },
    {
      "cell_type": "code",
      "source": [
        "# Putting response/dependent variable/feature to y\n",
        "y = mydata['price']"
      ],
      "metadata": {
        "id": "4O9lFrbyKQ1e"
      },
      "execution_count": null,
      "outputs": []
    },
    {
      "cell_type": "code",
      "source": [
        "from sklearn.tree import DecisionTreeRegressor\n",
        "\n",
        "# Create a Decision Tree Regression model\n",
        "regressor = DecisionTreeRegressor(max_depth=5)\n",
        "\n",
        "# Fit the regressor with X_train and y_train (assuming y_train contains continuous target values)\n",
        "regressor.fit(X_train, y_train)\n",
        "\n",
        "# Predict using the trained model\n",
        "y_pred = regressor.predict(X_test)"
      ],
      "metadata": {
        "id": "t1ALnqU1KVRc"
      },
      "execution_count": null,
      "outputs": []
    },
    {
      "cell_type": "code",
      "source": [
        "#evaluate model performance\n",
        "from sklearn.metrics import mean_absolute_error, mean_squared_error, r2_score\n",
        "\n",
        "# Calculate evaluation metrics\n",
        "mae = mean_absolute_error(y_test, y_pred)\n",
        "mse = mean_squared_error(y_test, y_pred)\n",
        "rmse = np.sqrt(mse)\n",
        "r2 = r2_score(y_test, y_pred)\n",
        "\n",
        "print(f\"Mean Absolute Error (MAE): {mae}\")\n",
        "print(f\"Mean Squared Error (MSE): {mse}\")\n",
        "print(f\"Root Mean Squared Error (RMSE): {rmse}\")\n",
        "print(f\"R-squared (R^2): {r2}\")\n"
      ],
      "metadata": {
        "colab": {
          "base_uri": "https://localhost:8080/"
        },
        "id": "Cd4oBzYpKYh4",
        "outputId": "8431d6a1-77a7-4ca6-bf65-8d70ea491f08"
      },
      "execution_count": null,
      "outputs": [
        {
          "metadata": {
            "tags": null
          },
          "name": "stdout",
          "output_type": "stream",
          "text": [
            "Mean Absolute Error (MAE): 1918.6758162267836\n",
            "Mean Squared Error (MSE): 7720903.521553165\n",
            "Root Mean Squared Error (RMSE): 2778.6513853942106\n",
            "R-squared (R^2): 0.8885121694718939\n"
          ]
        }
      ]
    },
    {
      "cell_type": "code",
      "source": [
        "#visualize predictions\n",
        "import matplotlib.pyplot as plt\n",
        "\n",
        "# Create scatter plot of actual vs. predicted values\n",
        "plt.scatter(y_test, y_pred)\n",
        "plt.xlabel(\"Actual Values\")\n",
        "plt.ylabel(\"Predicted Values\")\n",
        "plt.title(\"Actual vs. Predicted Values\")\n",
        "plt.show()"
      ],
      "metadata": {
        "colab": {
          "base_uri": "https://localhost:8080/",
          "height": 472
        },
        "id": "Ryc14phDKbLW",
        "outputId": "1d9a7ae8-67b8-4574-8b23-cf3efcb53afd"
      },
      "execution_count": null,
      "outputs": [
        {
          "data": {
            "image/png": "[encoded data removed]",
            "text/plain": [
              "<Figure size 640x480 with 1 Axes>"
            ]
          },
          "metadata": {},
          "output_type": "display_data"
        }
      ]
    },
    {
      "cell_type": "markdown",
      "source": [
        "**Question?**\n",
        "\n",
        "Is it necessary to know first the feature importance first, then assign it to X ?\n",
        "\n",
        "Yes, there is difference in term of their accuracy if you put all feature into X or put the high correlated feature only into X.\n",
        "\n",
        "It will give differences in term of their accuracy and the accuracy if you put high correlated feature only into X is much better compare you put all feature into X."
      ],
      "metadata": {
        "id": "wk1eq1kUL3x3"
      }
    },
    {
      "cell_type": "markdown",
      "source": [
        "**Comparison?**\n",
        "\n",
        "**This is if all feature into X:**\n",
        "\n",
        "\n",
        "1) Mean Absolute Error (MAE): 1934.4419452590416\n",
        "\n",
        "2) Mean Squared Error (MSE): 8265099.186875747\n",
        "\n",
        "3) Root Mean Squared Error (RMSE): 2874.908552784896\n",
        "\n",
        "4) R-squared (R^2): 0.88065412618198\n",
        "\n",
        "\n",
        "**This is if high correlated accuracy into X:**\n",
        "\n",
        "1) Mean Absolute Error (MAE): 1868.554848484848 (much better)\n",
        "\n",
        "2) Mean Squared Error (MSE): 7411531.848166069 (much better)\n",
        "\n",
        "3) Root Mean Squared Error (RMSE): 2722.4128724655393 (much better)\n",
        "\n",
        "4) R-squared (R^2): 0.8929794156428238 (much better)\n",
        "\n",
        "\n"
      ],
      "metadata": {
        "id": "7avDb53wN4Lh"
      }
    },
    {
      "cell_type": "markdown",
      "source": [
        "Thank you"
      ],
      "metadata": {
        "id": "u7AO-vSxPmBU"
      }
    }
  ]
}